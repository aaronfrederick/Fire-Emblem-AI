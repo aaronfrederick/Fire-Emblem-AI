{
 "cells": [
  {
   "cell_type": "code",
   "execution_count": 1,
   "metadata": {},
   "outputs": [],
   "source": [
    "from feaifuncs import *\n",
    "import pyautogui\n",
    "import time\n",
    "import pandas as pd"
   ]
  },
  {
   "cell_type": "code",
   "execution_count": 3,
   "metadata": {},
   "outputs": [
    {
     "name": "stdout",
     "output_type": "stream",
     "text": [
      "Lyn\n",
      "(7, 77, 7)\n",
      "     str  skl  spd  luk  def  res  mov  chp  mhp\n",
      "Lyn    4    7    9    5    2    0    5   16   16\n",
      "(3, 4, 4, 1)\n",
      "['item', 'Wait', 'e-tathac']\n",
      "Wait\n"
     ]
    }
   ],
   "source": [
    "#Select VBA\n",
    "pyautogui.moveTo(7,54,0.2)\n",
    "pyautogui.click()\n",
    "time.sleep(0.3)\n",
    "\n",
    "#Set Options on 1st Turn Only\n",
    "# set_options()\n",
    "# time.sleep(0.2)\n",
    "\n",
    "\n",
    "#Grab Board State\n",
    "select_next_unit()\n",
    "press_key(';')\n",
    "name = grab_name()\n",
    "print(name)\n",
    "press_key('w')\n",
    "press_key(\"'\")\n",
    "press_key('s')\n",
    "press_key(\"'\")\n",
    "print(grab_board_state())\n",
    "press_key(';',2)\n",
    "\n",
    "#Execute Actions\n",
    "\n",
    "select_next_unit()\n",
    "press_key('e')\n",
    "d = grab_stats()\n",
    "print(pd.DataFrame(d, index=[name], columns=d.keys()))\n",
    "# time.sleep(0.4)\n",
    "press_key(';')\n",
    "# time.sleep(0.4)\n",
    "moves = move_unit(random_move=True)\n",
    "print(moves)\n",
    "opts = grab_options()\n",
    "print(opts)\n",
    "if not opts:\n",
    "    print(\"Invalid move\")\n",
    "else:\n",
    "    print(choose_option(opts, random_opt=True))"
   ]
  },
  {
   "cell_type": "code",
   "execution_count": null,
   "metadata": {},
   "outputs": [],
   "source": []
  },
  {
   "cell_type": "code",
   "execution_count": null,
   "metadata": {},
   "outputs": [],
   "source": []
  }
 ],
 "metadata": {
  "kernelspec": {
   "display_name": "Python 3",
   "language": "python",
   "name": "python3"
  },
  "language_info": {
   "codemirror_mode": {
    "name": "ipython",
    "version": 3
   },
   "file_extension": ".py",
   "mimetype": "text/x-python",
   "name": "python",
   "nbconvert_exporter": "python",
   "pygments_lexer": "ipython3",
   "version": "3.7.0"
  }
 },
 "nbformat": 4,
 "nbformat_minor": 2
}
