{
 "cells": [
  {
   "cell_type": "code",
   "execution_count": 1,
   "metadata": {},
   "outputs": [],
   "source": [
    "from feaifuncs import *\n",
    "import pyautogui\n",
    "import time\n",
    "import pandas as pd\n",
    "from tqdm import tqdm"
   ]
  },
  {
   "cell_type": "code",
   "execution_count": 2,
   "metadata": {},
   "outputs": [],
   "source": [
    "#Globals that track game state, actions taken, and a metric of progress(enemies + turns)\n",
    "states = []\n",
    "metrics = []\n",
    "actions = []"
   ]
  },
  {
   "cell_type": "code",
   "execution_count": 5,
   "metadata": {
    "scrolled": true
   },
   "outputs": [
    {
     "name": "stderr",
     "output_type": "stream",
     "text": [
      " 60%|██████    | 3/5 [03:16<02:09, 64.81s/it]ERROR:root:Internal Python error in the inspect module.\n",
      "Below is the traceback from this internal error.\n",
      "\n"
     ]
    },
    {
     "name": "stdout",
     "output_type": "stream",
     "text": [
      "Traceback (most recent call last):\n",
      "  File \"/Users/aaronfrederick/Desktop/venv/lib/python3.7/site-packages/IPython/core/interactiveshell.py\", line 3267, in run_code\n",
      "    exec(code_obj, self.user_global_ns, self.user_ns)\n",
      "  File \"<ipython-input-5-d02c3105a985>\", line 8, in <module>\n",
      "    reset_to_prologue()\n",
      "  File \"/Users/aaronfrederick/Desktop/Data Science:Programming/FEAI/feaifuncs.py\", line 299, in reset_to_prologue\n",
      "    press_key(\"'\", 2, 0.5)\n",
      "  File \"/Users/aaronfrederick/Desktop/Data Science:Programming/FEAI/feaifuncs.py\", line 281, in press_key\n",
      "    time.sleep(interrupt)\n",
      "KeyboardInterrupt\n",
      "\n",
      "During handling of the above exception, another exception occurred:\n",
      "\n",
      "Traceback (most recent call last):\n",
      "  File \"/Users/aaronfrederick/Desktop/venv/lib/python3.7/site-packages/IPython/core/interactiveshell.py\", line 2018, in showtraceback\n",
      "    stb = value._render_traceback_()\n",
      "AttributeError: 'KeyboardInterrupt' object has no attribute '_render_traceback_'\n",
      "\n",
      "During handling of the above exception, another exception occurred:\n",
      "\n",
      "Traceback (most recent call last):\n",
      "  File \"/Users/aaronfrederick/Desktop/venv/lib/python3.7/site-packages/IPython/core/ultratb.py\", line 1095, in get_records\n",
      "    return _fixed_getinnerframes(etb, number_of_lines_of_context, tb_offset)\n",
      "  File \"/Users/aaronfrederick/Desktop/venv/lib/python3.7/site-packages/IPython/core/ultratb.py\", line 313, in wrapped\n",
      "    return f(*args, **kwargs)\n",
      "  File \"/Users/aaronfrederick/Desktop/venv/lib/python3.7/site-packages/IPython/core/ultratb.py\", line 347, in _fixed_getinnerframes\n",
      "    records = fix_frame_records_filenames(inspect.getinnerframes(etb, context))\n",
      "  File \"/Library/Frameworks/Python.framework/Versions/3.7/lib/python3.7/inspect.py\", line 1495, in getinnerframes\n",
      "    frameinfo = (tb.tb_frame,) + getframeinfo(tb, context)\n",
      "  File \"/Library/Frameworks/Python.framework/Versions/3.7/lib/python3.7/inspect.py\", line 1453, in getframeinfo\n",
      "    filename = getsourcefile(frame) or getfile(frame)\n",
      "  File \"/Library/Frameworks/Python.framework/Versions/3.7/lib/python3.7/inspect.py\", line 696, in getsourcefile\n",
      "    if getattr(getmodule(object, filename), '__loader__', None) is not None:\n",
      "  File \"/Library/Frameworks/Python.framework/Versions/3.7/lib/python3.7/inspect.py\", line 742, in getmodule\n",
      "    os.path.realpath(f)] = module.__name__\n",
      "  File \"/Users/aaronfrederick/Desktop/venv/bin/../lib/python3.7/posixpath.py\", line 388, in realpath\n",
      "    path, ok = _joinrealpath(filename[:0], filename, {})\n",
      "  File \"/Users/aaronfrederick/Desktop/venv/bin/../lib/python3.7/posixpath.py\", line 422, in _joinrealpath\n",
      "    if not islink(newpath):\n",
      "  File \"/Users/aaronfrederick/Desktop/venv/bin/../lib/python3.7/posixpath.py\", line 171, in islink\n",
      "    st = os.lstat(path)\n",
      "KeyboardInterrupt\n"
     ]
    },
    {
     "ename": "KeyboardInterrupt",
     "evalue": "",
     "output_type": "error",
     "traceback": [
      "\u001b[0;31m---------------------------------------------------------------------------\u001b[0m"
     ]
    }
   ],
   "source": [
    "#Select VBA\n",
    "pyautogui.moveTo(7,54,0.2)\n",
    "pyautogui.click()\n",
    "time.sleep(0.3)\n",
    "\n",
    "#Generate Data\n",
    "for _ in tqdm(range(5)):\n",
    "    reset_to_prologue()\n",
    "    gen_data_prologue()"
   ]
  },
  {
   "cell_type": "code",
   "execution_count": 6,
   "metadata": {},
   "outputs": [
    {
     "name": "stdout",
     "output_type": "stream",
     "text": [
      "[[1, 2, 1, 4, 7, 9, 5, 2, 0, 5, 16, 16], [1, 2, 2, 4, 7, 9, 5, 2, 0, 5, 16, 16], [1, 2, 1, 4, 7, 9, 5, 2, 0, 5, 16, 16], [1, 2, 2, 4, 7, 9, 5, 2, 0, 5, 16, 16], [1, 2, 1, 4, 7, 9, 5, 2, 0, 5, 16, 16], [1, 2, 2, 4, 7, 9, 5, 2, 0, 5, 16, 16]]\n",
      "\n",
      "[['Lyn', 3, 4, 0, 4, 'Item'], ['Lyn', 4, 3, 3, 3, 'Wait'], ['Lyn', 5, 5, 6, 3, 'Wait'], ['Lyn', 2, 0, 1, 4, 'Item'], ['Lyn', 6, 6, 0, 1, 'Wait'], ['Lyn', 5, 4, 6, 5, 'Wait']]\n",
      "\n",
      "[2.0, 1.0, 2.0, 1.0, 2.0, 1.0]\n"
     ]
    }
   ],
   "source": [
    "print(states)\n",
    "print()\n",
    "print(actions)\n",
    "print()\n",
    "print(metrics)"
   ]
  },
  {
   "cell_type": "code",
   "execution_count": null,
   "metadata": {},
   "outputs": [],
   "source": []
  }
 ],
 "metadata": {
  "kernelspec": {
   "display_name": "Python 3",
   "language": "python",
   "name": "python3"
  },
  "language_info": {
   "codemirror_mode": {
    "name": "ipython",
    "version": 3
   },
   "file_extension": ".py",
   "mimetype": "text/x-python",
   "name": "python",
   "nbconvert_exporter": "python",
   "pygments_lexer": "ipython3",
   "version": "3.7.0"
  }
 },
 "nbformat": 4,
 "nbformat_minor": 2
}
