{
 "cells": [
  {
   "cell_type": "code",
   "execution_count": 1,
   "metadata": {},
   "outputs": [],
   "source": [
    "from felibs.chapters.prologue import *\n",
    "import pyautogui\n",
    "import time\n",
    "import pandas as pd\n",
    "from tqdm import tqdm"
   ]
  },
  {
   "cell_type": "code",
   "execution_count": 2,
   "metadata": {},
   "outputs": [],
   "source": [
    "#Globals that track game state, actions taken, and a metric of progress(enemies + turns)\n",
    "s = []\n",
    "a = []\n",
    "m = []"
   ]
  },
  {
   "cell_type": "code",
   "execution_count": 5,
   "metadata": {
    "scrolled": true
   },
   "outputs": [
    {
     "name": "stderr",
     "output_type": "stream",
     "text": [
      "\n",
      "  0%|          | 0/5 [00:00<?, ?it/s]\u001b[A"
     ]
    },
    {
     "name": "stdout",
     "output_type": "stream",
     "text": [
      "Broken for Invalid Move\n"
     ]
    }
   ],
   "source": [
    "#Select VBA\n",
    "pyautogui.moveTo(7,54,0.2)\n",
    "pyautogui.click()\n",
    "time.sleep(0.3)\n",
    "\n",
    "#Generate Data\n",
    "for _ in tqdm(range(5)):\n",
    "    reset_to_prologue()\n",
    "    states, actions, metrics = gen_data_prologue()\n",
    "    s.extend(states)\n",
    "    a.extend(actions)\n",
    "    m.extend(metrics)\n",
    "    break"
   ]
  },
  {
   "cell_type": "code",
   "execution_count": 6,
   "metadata": {},
   "outputs": [
    {
     "name": "stdout",
     "output_type": "stream",
     "text": [
      "[[1, 2, 1, 4, 7, 9, 5, 2, 0, 5, 16, 16], [1, 2, 1, 4, 7, 9, 5, 2, 0, 5, 16, 16], [1, 2, 1, 4, 7, 9, 5, 2, 0, 5, 16, 16], [1, 2, 2, 4, 7, 9, 5, 2, 0, 5, 16, 16], [1, 2, 5, 4, 7, 9, 5, 2, 0, 5, 16, 16], [1, 2, 4, 4, 7, 9, 5, 2, 0, 5, 6, 16], [1, 1, 5, 4, 7, 9, 5, 2, 0, 5, 6, 16], [1, 1, 8, 4, 7, 9, 5, 2, 0, 5, 16, 16]]\n",
      "\n",
      "[['Lyn', 6, 5, 5, 6, 'Wait'], ['Lyn', 6, 5, 5, 6, 'Wait'], ['Lyn', 3, 2, 3, 1, 'Wait'], ['Lyn', 4, 5, 0, 1, 'Item'], ['Lyn', 3, 2, 1, 0, 'Item'], ['Lyn', 1, 2, 1, 3, 'Wait'], ['Lona', 2, 4, 2, 3, 'Item'], ['Lyn', 2, 1, 0, 2, 'Wait']]\n",
      "\n",
      "[3, 3, 3, 4, 7, 6, 6, 9]\n"
     ]
    }
   ],
   "source": [
    "print(s)\n",
    "print()\n",
    "print(a)\n",
    "print()\n",
    "print(m)"
   ]
  },
  {
   "cell_type": "code",
   "execution_count": null,
   "metadata": {},
   "outputs": [],
   "source": []
  }
 ],
 "metadata": {
  "kernelspec": {
   "display_name": "Python 3",
   "language": "python",
   "name": "python3"
  },
  "language_info": {
   "codemirror_mode": {
    "name": "ipython",
    "version": 3
   },
   "file_extension": ".py",
   "mimetype": "text/x-python",
   "name": "python",
   "nbconvert_exporter": "python",
   "pygments_lexer": "ipython3",
   "version": "3.7.0"
  }
 },
 "nbformat": 4,
 "nbformat_minor": 2
}
