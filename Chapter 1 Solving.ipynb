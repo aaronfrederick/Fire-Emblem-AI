{
 "cells": [
  {
   "cell_type": "code",
   "execution_count": 1,
   "metadata": {},
   "outputs": [],
   "source": [
    "from felibs.feaifuncs import *\n",
    "from felibs.unit import Unit\n",
    "\n",
    "import sys\n",
    "\n",
    "if not sys.warnoptions:\n",
    "    import warnings\n",
    "    warnings.simplefilter(\"ignore\")"
   ]
  },
  {
   "cell_type": "code",
   "execution_count": 2,
   "metadata": {},
   "outputs": [],
   "source": [
    "## Setting Hyperparameters and Chapter Specific Info\n",
    "\n",
    "starting_location = {'Lyn' : (2,1),\n",
    "                     'Sain' : (0,4),\n",
    "                     'Kent' : (0,2)}\n",
    "\n",
    "\n",
    "item_slot = {'Lyn' : 1,\n",
    "             'Sain' : 0,\n",
    "             'Kent' : 2}\n",
    "\n",
    "\n",
    "train_episodes = 200\n",
    "max_turns = 12"
   ]
  },
  {
   "cell_type": "code",
   "execution_count": 3,
   "metadata": {},
   "outputs": [],
   "source": [
    "def take_turn_greedy(units):\n",
    "    '''\n",
    "    Takes a turn using the highest-values in the q-table only\n",
    "    Iterates through every unit on the team\n",
    "    Assumes every character is alive\n",
    "    **NEEDS SOME LOGIC REGARDING CHECKING DEATH QUOTES**\n",
    "    '''\n",
    "    print('starting turn')\n",
    "    press_key('w', interrupt=0.5)\n",
    "    press_key(\"'\")\n",
    "    press_key('s')\n",
    "    press_key(\"'\")\n",
    "    blue, red, turns = grab_board_state()\n",
    "    if blue < 3:\n",
    "        return 'Sain'\n",
    "    else:\n",
    "        press_key(';')\n",
    "    time.sleep(0.2)\n",
    "    for u in units:\n",
    "        time.sleep(1)\n",
    "        select_next_unit()\n",
    "\n",
    "        moving = True\n",
    "        while moving:\n",
    "            time.sleep(0.2)\n",
    "\n",
    "            state_index = u.states_to_indices[u.state]\n",
    "            best_action = u.indices_to_moves_and_actions[np.argmax(u.qtable[state_index])]\n",
    "\n",
    "            u.move(best_action)\n",
    "            time.sleep(0.3)\n",
    "            opts = grab_options()\n",
    "\n",
    "            if u.item == 0 and best_action[2] == 'Item':\n",
    "                best_action = (best_action[0], best_action[1], 'Wait')\n",
    "\n",
    "            if best_action[2] == 'Attack' and not attack_in_opts(opts):\n",
    "                best_action = (best_action[0], best_action[1], 'Wait')\n",
    "\n",
    "            if 'Rescue' in opts or 'RESCUE' in opts or 'ESCUED' in opts:\n",
    "                best_action = (best_action[0], best_action[1], 'Wait')\n",
    "                u.act(best_action)\n",
    "                u.save_qtable(1)\n",
    "                moving=False\n",
    "                break\n",
    "            \n",
    "            if not opts or not wait_in_opts(opts):\n",
    "                u.update_qtable_invalid_move()\n",
    "                #press b and try again\n",
    "                press_key(';')\n",
    "                press_key(\"'\")\n",
    "                time.sleep(0.1)\n",
    "            else:\n",
    "                u.act(best_action)\n",
    "                u.save_qtable(1)\n",
    "                moving = False\n",
    "        if best_action[2] == 'Attack':\n",
    "            for _ in range(2):\n",
    "                dq = check_death_quote()\n",
    "                if dq and dq != 'NOT DEATH':\n",
    "                    for u in units:\n",
    "                        if dq == u.name:\n",
    "                            u.update_qtable_death(target=True)\n",
    "                        else:\n",
    "                            u.update_qtable_death()\n",
    "                    return dq\n",
    "\n",
    "                elif dq == 'NOT DEATH':\n",
    "                    press_key('enter', 2, 0.3)\n",
    "                    time.sleep(4)\n",
    "    \n",
    "    print('starting break')\n",
    "    \n",
    "    enemy_phase_break(8)\n",
    "    \n",
    "    dq = check_death_quote()\n",
    "    print('Output of death quote check:', dq)\n",
    "    if dq and dq != 'NOT DEATH':\n",
    "        for u in units:\n",
    "            if dq == u.name:\n",
    "                u.update_qtable_death(target=True)\n",
    "            else:\n",
    "                u.update_qtable_death()\n",
    "        return dq\n",
    "\n",
    "    elif dq == 'NOT DEATH':\n",
    "        press_key('enter', 2, 0.3)\n",
    "\n",
    "    return ''"
   ]
  },
  {
   "cell_type": "code",
   "execution_count": 4,
   "metadata": {
    "scrolled": true
   },
   "outputs": [
    {
     "name": "stdout",
     "output_type": "stream",
     "text": [
      "EPISODE 1\n",
      "Turn: 1\n",
      "starting turn\n",
      "starting break\n",
      " \n",
      "Output of death quote check: NOT DEATH\n",
      "Turn: 2\n",
      "starting turn\n",
      "starting break\n",
      " \n",
      " \n",
      " \n",
      "Output of death quote check: Sain\n",
      "EPISODE 2\n",
      "Turn: 1\n",
      "starting turn\n",
      "starting break\n",
      " \n",
      "Output of death quote check: \n",
      "Turn: 2\n",
      "starting turn\n"
     ]
    },
    {
     "name": "stderr",
     "output_type": "stream",
     "text": [
      "ERROR:root:Internal Python error in the inspect module.\n",
      "Below is the traceback from this internal error.\n",
      "\n"
     ]
    },
    {
     "name": "stdout",
     "output_type": "stream",
     "text": [
      "Traceback (most recent call last):\n",
      "  File \"/Users/aaronfrederick/Desktop/3venv/lib/python3.7/site-packages/IPython/core/interactiveshell.py\", line 3291, in run_code\n",
      "    exec(code_obj, self.user_global_ns, self.user_ns)\n",
      "  File \"<ipython-input-4-d1f73593a142>\", line 42, in <module>\n",
      "    death = take_turn_greedy(units)\n",
      "  File \"<ipython-input-3-fcd18d3d4a37>\", line 32, in take_turn_greedy\n",
      "    opts = grab_options()\n",
      "  File \"/Users/aaronfrederick/Desktop/Data Science:Programming/Side Projects/FEAI/felibs/feaifuncs.py\", line 311, in grab_options\n",
      "    short_text1 = pytesseract.image_to_string(inverted_grayscale(short_1))\n",
      "  File \"/Users/aaronfrederick/Desktop/3venv/lib/python3.7/site-packages/pytesseract/pytesseract.py\", line 309, in image_to_string\n",
      "    }[output_type]()\n",
      "  File \"/Users/aaronfrederick/Desktop/3venv/lib/python3.7/site-packages/pytesseract/pytesseract.py\", line 308, in <lambda>\n",
      "    Output.STRING: lambda: run_and_get_output(*args),\n",
      "  File \"/Users/aaronfrederick/Desktop/3venv/lib/python3.7/site-packages/pytesseract/pytesseract.py\", line 218, in run_and_get_output\n",
      "    run_tesseract(**kwargs)\n",
      "  File \"/Users/aaronfrederick/Desktop/3venv/lib/python3.7/site-packages/pytesseract/pytesseract.py\", line 188, in run_tesseract\n",
      "    status_code, error_string = proc.wait(), proc.stderr.read()\n",
      "  File \"/Library/Frameworks/Python.framework/Versions/3.7/lib/python3.7/subprocess.py\", line 971, in wait\n",
      "    return self._wait(timeout=timeout)\n",
      "  File \"/Library/Frameworks/Python.framework/Versions/3.7/lib/python3.7/subprocess.py\", line 1601, in _wait\n",
      "    (pid, sts) = self._try_wait(0)\n",
      "  File \"/Library/Frameworks/Python.framework/Versions/3.7/lib/python3.7/subprocess.py\", line 1559, in _try_wait\n",
      "    (pid, sts) = os.waitpid(self.pid, wait_flags)\n",
      "KeyboardInterrupt\n",
      "\n",
      "During handling of the above exception, another exception occurred:\n",
      "\n",
      "Traceback (most recent call last):\n",
      "  File \"/Users/aaronfrederick/Desktop/3venv/lib/python3.7/site-packages/IPython/core/interactiveshell.py\", line 2033, in showtraceback\n",
      "    stb = value._render_traceback_()\n",
      "AttributeError: 'KeyboardInterrupt' object has no attribute '_render_traceback_'\n",
      "\n",
      "During handling of the above exception, another exception occurred:\n",
      "\n",
      "Traceback (most recent call last):\n",
      "  File \"/Users/aaronfrederick/Desktop/3venv/lib/python3.7/site-packages/IPython/core/ultratb.py\", line 1095, in get_records\n",
      "    return _fixed_getinnerframes(etb, number_of_lines_of_context, tb_offset)\n",
      "  File \"/Users/aaronfrederick/Desktop/3venv/lib/python3.7/site-packages/IPython/core/ultratb.py\", line 313, in wrapped\n",
      "    return f(*args, **kwargs)\n",
      "  File \"/Users/aaronfrederick/Desktop/3venv/lib/python3.7/site-packages/IPython/core/ultratb.py\", line 347, in _fixed_getinnerframes\n",
      "    records = fix_frame_records_filenames(inspect.getinnerframes(etb, context))\n",
      "  File \"/Library/Frameworks/Python.framework/Versions/3.7/lib/python3.7/inspect.py\", line 1495, in getinnerframes\n",
      "    frameinfo = (tb.tb_frame,) + getframeinfo(tb, context)\n",
      "  File \"/Library/Frameworks/Python.framework/Versions/3.7/lib/python3.7/inspect.py\", line 1453, in getframeinfo\n",
      "    filename = getsourcefile(frame) or getfile(frame)\n",
      "  File \"/Library/Frameworks/Python.framework/Versions/3.7/lib/python3.7/inspect.py\", line 696, in getsourcefile\n",
      "    if getattr(getmodule(object, filename), '__loader__', None) is not None:\n",
      "  File \"/Library/Frameworks/Python.framework/Versions/3.7/lib/python3.7/inspect.py\", line 739, in getmodule\n",
      "    f = getabsfile(module)\n",
      "  File \"/Library/Frameworks/Python.framework/Versions/3.7/lib/python3.7/inspect.py\", line 708, in getabsfile\n",
      "    _filename = getsourcefile(object) or getfile(object)\n",
      "  File \"/Library/Frameworks/Python.framework/Versions/3.7/lib/python3.7/inspect.py\", line 693, in getsourcefile\n",
      "    if os.path.exists(filename):\n",
      "  File \"/Users/aaronfrederick/Desktop/3venv/bin/../lib/python3.7/genericpath.py\", line 19, in exists\n",
      "    os.stat(path)\n",
      "KeyboardInterrupt\n"
     ]
    },
    {
     "ename": "KeyboardInterrupt",
     "evalue": "",
     "output_type": "error",
     "traceback": [
      "\u001b[0;31m---------------------------------------------------------------------------\u001b[0m"
     ]
    }
   ],
   "source": [
    "### full episode logic with greedy solve\n",
    "select_vba()\n",
    "\n",
    "for episode in range(train_episodes):\n",
    "    print('EPISODE', episode+1)\n",
    "    time.sleep(0.3)\n",
    "    reset_to_ch1()\n",
    "    units=[]\n",
    "    #instantiate units, load qtable from file/instantiate if episode==1\n",
    "    time.sleep(1)\n",
    "    press_key('w', interrupt=0.5)\n",
    "    for _ in range(3):\n",
    "        select_next_unit()\n",
    "        press_key(';')\n",
    "        name = grab_name()\n",
    "        press_key(\"e\")\n",
    "        stats = grab_stats()\n",
    "\n",
    "        new_unit = Unit(name, stats, starting_location[name], item_slot[name])\n",
    "        \n",
    "#         if episode == 0:\n",
    "#             new_unit.setup_qtable(15,10)\n",
    "#             new_unit.initialize_qtable_with_target((13,8))\n",
    "#         else:\n",
    "#             new_unit.setup_qtable(15,10)\n",
    "#             new_unit.load_qtable(1)\n",
    "\n",
    "        new_unit.setup_qtable(15,10)\n",
    "        new_unit.load_qtable(1)\n",
    "        \n",
    "        units.append(new_unit)\n",
    "        press_key(';')\n",
    "\n",
    "    #take turns\n",
    "    for turn in range(max_turns):\n",
    "        print('Turn:', turn+1)\n",
    "        if turn > 1:\n",
    "            for u in units:\n",
    "                u.save_qtable(chapter=1)\n",
    "            \n",
    "        #take turn\n",
    "        death = take_turn_greedy(units)\n",
    "        if death:\n",
    "            for u in units:\n",
    "                if u.name == death:\n",
    "                    u.update_qtable_death(target=True)\n",
    "                    u.save_qtable(chapter=1)\n",
    "                else:\n",
    "                    u.update_qtable_death()\n",
    "                    u.save_qtable(chapter=1)\n",
    "            break\n",
    "    "
   ]
  },
  {
   "cell_type": "code",
   "execution_count": 23,
   "metadata": {},
   "outputs": [],
   "source": [
    "\n",
    "select_vba()\n",
    "press_key('w', interrupt=0.5)\n",
    "press_key(\"'\")\n",
    "press_key('s')\n",
    "press_key(\"'\")\n",
    "blue, red, turns = grab_board_state()\n",
    "press_key(':')\n",
    "if blue < 3:\n",
    "    print('Sain')\n",
    "\n",
    "time.sleep(5)\n",
    "\n",
    "select_next_unit()\n",
    "units[0].move((3,1,'Wait'))"
   ]
  },
  {
   "cell_type": "code",
   "execution_count": 18,
   "metadata": {},
   "outputs": [],
   "source": [
    "select_vba()\n",
    "select_next_unit()"
   ]
  },
  {
   "cell_type": "code",
   "execution_count": 6,
   "metadata": {},
   "outputs": [
    {
     "data": {
      "text/plain": [
       "[]"
      ]
     },
     "execution_count": 6,
     "metadata": {},
     "output_type": "execute_result"
    }
   ],
   "source": [
    "grab_options()"
   ]
  },
  {
   "cell_type": "code",
   "execution_count": null,
   "metadata": {},
   "outputs": [],
   "source": []
  },
  {
   "cell_type": "code",
   "execution_count": 11,
   "metadata": {},
   "outputs": [
    {
     "data": {
      "text/plain": [
       "[<felibs.unit.Unit at 0x127efa358>,\n",
       " <felibs.unit.Unit at 0x127efaf60>,\n",
       " <felibs.unit.Unit at 0x127efa198>]"
      ]
     },
     "execution_count": 11,
     "metadata": {},
     "output_type": "execute_result"
    }
   ],
   "source": [
    "units"
   ]
  },
  {
   "cell_type": "code",
   "execution_count": null,
   "metadata": {},
   "outputs": [],
   "source": [
    "decay = 0.95\n",
    "\n",
    "for i in range(len(all_actions)):\n",
    "    state=all_states[i]\n",
    "    action=all_actions[i]\n",
    "    \n",
    "    si = states_to_indices[state]\n",
    "    ai = actions_to_indices[action]\n",
    "    \n",
    "    qtable[si, ai] *= decay**(i+1)"
   ]
  },
  {
   "cell_type": "code",
   "execution_count": 8,
   "metadata": {},
   "outputs": [
    {
     "data": {
      "text/plain": [
       "[(0, 4), (5, 6), (9, 8)]"
      ]
     },
     "execution_count": 8,
     "metadata": {},
     "output_type": "execute_result"
    }
   ],
   "source": [
    "units[1].all_states"
   ]
  },
  {
   "cell_type": "code",
   "execution_count": 12,
   "metadata": {},
   "outputs": [
    {
     "data": {
      "text/plain": [
       "(7, 0, 'Attack')"
      ]
     },
     "execution_count": 12,
     "metadata": {},
     "output_type": "execute_result"
    }
   ],
   "source": [
    "state_index = units[1].states_to_indices[(9,8)]\n",
    "\n",
    "units[1].indices_to_moves_and_actions[np.argmax(units[1].qtable[state_index])]"
   ]
  },
  {
   "cell_type": "code",
   "execution_count": 19,
   "metadata": {},
   "outputs": [
    {
     "data": {
      "text/plain": [
       "0.46982919631397935"
      ]
     },
     "execution_count": 19,
     "metadata": {},
     "output_type": "execute_result"
    }
   ],
   "source": [
    "units[1].qtable[state_index, np.argmax(units[1].qtable[state_index])]"
   ]
  },
  {
   "cell_type": "code",
   "execution_count": 20,
   "metadata": {},
   "outputs": [
    {
     "data": {
      "text/plain": [
       "array([-0.49954948, -0.49954948, -0.49954948, -0.44446754, -0.44446754,\n",
       "       -0.44446754, -0.42752858, -0.42752858, -0.42752858, -0.41421356,\n",
       "       -0.41421356, -0.41421356, -0.39497166, -0.39497166, -0.39497166,\n",
       "       -0.37349426, -0.37349426, -0.37349426, -0.35566878, -0.35566878,\n",
       "       -0.35566878, -0.34164079, -0.34164079, -0.34164079, -0.33153031,\n",
       "       -0.33153031, -0.33153031, -0.35167564, -0.35167564, -0.35167564,\n",
       "       -0.32542701, -0.32542701, -0.32542701, -0.30280363, -0.30280363,\n",
       "       -0.30280363, -0.28399714, -0.28399714, -0.28399714, -0.26917722,\n",
       "       -0.26917722, -0.26917722, -0.25848472, -0.25848472, -0.25848472,\n",
       "       -0.25202539, -0.25202539, -0.25202539, -0.3151919 , -0.3151919 ,\n",
       "       -0.3151919 , -0.28399714, -0.28399714, -0.28399714, -0.2563353 ,\n",
       "       -0.2563353 , -0.2563353 , -0.23244429, -0.23244429, -0.23244429,\n",
       "       -0.21254702, -0.21254702, -0.21254702, -0.19684269, -0.19684269,\n",
       "       -0.19684269, -0.18549796, -0.18549796, -0.18549796, -0.1786387 ,\n",
       "       -0.1786387 , -0.1786387 , -0.1763434 , -0.1763434 , -0.1763434 ,\n",
       "       -0.28610033, -0.28610033, -0.28610033, -0.24986486, -0.24986486,\n",
       "       -0.24986486, -0.21699675, -0.21699675, -0.21699675, -0.18777557,\n",
       "       -0.18777557, -0.18777557, -0.16247639, -0.16247639, -0.16247639,\n",
       "       -0.14136002, -0.14136002, -0.14136002, -0.12466211, -0.12466211,\n",
       "       -0.12466211, -0.11258161, -0.11258161, -0.11258161, -0.10526993,\n",
       "       -0.10526993, -0.10526993, -0.10282193, -0.10282193, -0.10282193,\n",
       "       -0.10526993, -0.10526993, -0.10526993, -0.26491106, -0.26491106,\n",
       "       -0.26491106, -0.223641  , -0.223641  , -0.223641  , -0.18549796,\n",
       "       -0.18549796, -0.18549796, -0.15079291, -0.15079291, -0.15079291,\n",
       "       -0.11984555, -0.11984555, -0.11984555, -0.09297511, -0.09297511,\n",
       "       -0.09297511, -0.07048865, -0.07048865, -0.07048865, -0.05266714,\n",
       "       -0.05266714, -0.05266714, -0.03975049, -0.03975049, -0.03975049,\n",
       "       -0.0319229 , -0.0319229 , -0.0319229 , -0.02930047, -0.02930047,\n",
       "       -0.02930047, -0.0319229 , -0.0319229 , -0.0319229 , -0.03975049,\n",
       "       -0.03975049, -0.03975049, -0.25202539, -0.25202539, -0.25202539,\n",
       "       -0.20584164, -0.20584164, -0.20584164, -0.16247639, -0.16247639,\n",
       "       -0.16247639, -0.12225641, -0.12225641, -0.12225641, -0.08553138,\n",
       "       -0.08553138, -0.08553138, -0.05266714, -0.05266714, -0.05266714,\n",
       "       -0.02403547, -0.02403547, -0.02403547,  0.        ,  0.        ,\n",
       "        0.        ,  0.01910135,  0.01910135,  0.01910135,  0.03297615,\n",
       "        0.03297615,  0.03297615,  0.04139741,  0.04139741,  0.04139741,\n",
       "        0.04422099,  0.04422099,  0.04422099,  0.04139741,  0.04139741,\n",
       "        0.04139741,  0.03297615,  0.03297615,  0.03297615,  0.01910135,\n",
       "        0.01910135,  0.01910135, -0.14844195, -0.14844195, -0.14844195,\n",
       "       -0.10282193, -0.10282193, -0.10282193, -0.06034161, -0.06034161,\n",
       "       -0.06034161, -0.0213928 , -0.0213928 , -0.0213928 ,  0.01360608,\n",
       "        0.01360608,  0.01360608,  0.04422099,  0.04422099,  0.04422099,\n",
       "        0.07001889,  0.07001889,  0.07001889,  0.09058974,  0.09058974,\n",
       "        0.09058974,  0.10557281,  0.10557281,  0.10557281,  0.11468436,\n",
       "        0.11468436,  0.11468436,  0.11774245,  0.11774245,  0.11774245,\n",
       "        0.11468436,  0.11468436,  0.11468436,  0.10557281,  0.10557281,\n",
       "        0.10557281, -0.04493631, -0.04493631, -0.04493631,  0.        ,\n",
       "        0.        ,  0.        ,  0.04139741,  0.04139741,  0.04139741,\n",
       "        0.07877872,  0.07877872,  0.07877872,  0.11163679,  0.11163679,\n",
       "        0.11163679,  0.13945335,  0.13945335,  0.13945335,  0.16172636,\n",
       "        0.16172636,  0.16172636,  0.17800506,  0.17800506,  0.17800506,\n",
       "        0.18792891,  0.18792891,  0.18792891,  0.19126392,  0.19126392,\n",
       "        0.19126392,  0.18792891,  0.18792891,  0.18792891,  0.05846589,\n",
       "        0.05846589,  0.05846589,  0.10255618,  0.10255618,  0.10255618,\n",
       "        0.14259978,  0.14259978,  0.14259978,  0.17800506,  0.17800506,\n",
       "        0.17800506,  0.20814962,  0.20814962,  0.20814962,  0.2324134 ,\n",
       "        0.2324134 ,  0.2324134 ,  0.25022526,  0.25022526,  0.25022526,\n",
       "        0.26111845,  0.26111845,  0.26111845,  0.26478538,  0.26478538,\n",
       "        0.26478538,  0.16172636,  0.16172636,  0.16172636,  0.20474379,\n",
       "        0.20474379,  0.20474379,  0.24305022,  0.24305022,  0.24305022,\n",
       "        0.27589757,  0.27589757,  0.27589757,  0.30251417,  0.30251417,\n",
       "        0.30251417, -1.67783439,  0.32216561,  0.32216561,  0.33423484,\n",
       "        0.33423484,  0.33423484,  0.26478538,  0.26478538,  0.26478538,\n",
       "        0.30639991,  0.30639991,  0.30639991,  0.34240405,  0.34240405,\n",
       "        0.34240405,  0.37183235,  0.37183235,  0.37183235,  0.39372649,\n",
       "        0.39372649,  0.39372649,  0.36754447,  0.36754447,  0.36754447,\n",
       "        0.40725102,  0.40725102,  0.40725102,  0.44007723,  0.44007723,\n",
       "        0.44007723,  0.4698292 ,  0.4698292 ,  0.4698292 ])"
      ]
     },
     "execution_count": 20,
     "metadata": {},
     "output_type": "execute_result"
    }
   ],
   "source": [
    "units[1].qtable[state_index]"
   ]
  },
  {
   "cell_type": "code",
   "execution_count": 31,
   "metadata": {},
   "outputs": [
    {
     "data": {
      "text/plain": [
       "[(3, 1, 'Wait'), (2, 2, 'Wait')]"
      ]
     },
     "execution_count": 31,
     "metadata": {},
     "output_type": "execute_result"
    }
   ],
   "source": [
    "units[0].all_moves"
   ]
  },
  {
   "cell_type": "code",
   "execution_count": null,
   "metadata": {},
   "outputs": [],
   "source": []
  },
  {
   "cell_type": "code",
   "execution_count": 2,
   "metadata": {
    "scrolled": true
   },
   "outputs": [
    {
     "name": "stderr",
     "output_type": "stream",
     "text": [
      "/Users/aaronfrederick/Desktop/3venv/lib/python3.7/site-packages/sklearn/base.py:253: UserWarning: Trying to unpickle estimator LogisticRegression from version 0.20.0 when using version 0.20.3. This might lead to breaking code or invalid results. Use at your own risk.\n",
      "  UserWarning)\n",
      "/Users/aaronfrederick/Desktop/3venv/lib/python3.7/site-packages/sklearn/base.py:253: UserWarning: Trying to unpickle estimator LogisticRegression from version 0.20.0 when using version 0.20.3. This might lead to breaking code or invalid results. Use at your own risk.\n",
      "  UserWarning)\n",
      "/Users/aaronfrederick/Desktop/3venv/lib/python3.7/site-packages/sklearn/base.py:253: UserWarning: Trying to unpickle estimator LogisticRegression from version 0.20.0 when using version 0.20.3. This might lead to breaking code or invalid results. Use at your own risk.\n",
      "  UserWarning)\n"
     ]
    },
    {
     "name": "stdout",
     "output_type": "stream",
     "text": [
      "Lyn has a max movement of 5 and an item in the 1 slot\n",
      "Sain has a max movement of 7 and an item in the 0 slot\n",
      "Kent has a max movement of 7 and an item in the 2 slot\n",
      "Lyn has a max movement of 5 and an item in the 1 slot\n",
      "Sain has a max movement of 7 and an item in the 0 slot\n",
      "Kent has a max movement of 7 and an item in the 2 slot\n",
      "Lyn has a max movement of 5 and an item in the 1 slot\n"
     ]
    },
    {
     "name": "stderr",
     "output_type": "stream",
     "text": [
      "ERROR:root:Internal Python error in the inspect module.\n",
      "Below is the traceback from this internal error.\n",
      "\n"
     ]
    },
    {
     "name": "stdout",
     "output_type": "stream",
     "text": [
      "Traceback (most recent call last):\n",
      "  File \"/Users/aaronfrederick/Desktop/3venv/lib/python3.7/site-packages/IPython/core/interactiveshell.py\", line 3291, in run_code\n",
      "    exec(code_obj, self.user_global_ns, self.user_ns)\n",
      "  File \"<ipython-input-2-0ef6224090d0>\", line 80, in <module>\n",
      "    opts = grab_options()\n",
      "  File \"/Users/aaronfrederick/Desktop/Data Science:Programming/Side Projects/FEAI/felibs/feaifuncs.py\", line 249, in grab_options\n",
      "    screen = np.array(ImageGrab.grab(bbox=(0,0,600,400)))\n",
      "  File \"/Users/aaronfrederick/Desktop/3venv/lib/python3.7/site-packages/PIL/ImageGrab.py\", line 36, in grab\n",
      "    subprocess.call(['screencapture', '-x', filepath])\n",
      "  File \"/Library/Frameworks/Python.framework/Versions/3.7/lib/python3.7/subprocess.py\", line 306, in call\n",
      "    return p.wait(timeout=timeout)\n",
      "  File \"/Library/Frameworks/Python.framework/Versions/3.7/lib/python3.7/subprocess.py\", line 971, in wait\n",
      "    return self._wait(timeout=timeout)\n",
      "  File \"/Library/Frameworks/Python.framework/Versions/3.7/lib/python3.7/subprocess.py\", line 1601, in _wait\n",
      "    (pid, sts) = self._try_wait(0)\n",
      "  File \"/Library/Frameworks/Python.framework/Versions/3.7/lib/python3.7/subprocess.py\", line 1559, in _try_wait\n",
      "    (pid, sts) = os.waitpid(self.pid, wait_flags)\n",
      "KeyboardInterrupt\n",
      "\n",
      "During handling of the above exception, another exception occurred:\n",
      "\n",
      "Traceback (most recent call last):\n",
      "  File \"/Users/aaronfrederick/Desktop/3venv/lib/python3.7/site-packages/IPython/core/interactiveshell.py\", line 2033, in showtraceback\n",
      "    stb = value._render_traceback_()\n",
      "AttributeError: 'KeyboardInterrupt' object has no attribute '_render_traceback_'\n",
      "\n",
      "During handling of the above exception, another exception occurred:\n",
      "\n",
      "Traceback (most recent call last):\n",
      "  File \"/Users/aaronfrederick/Desktop/3venv/lib/python3.7/site-packages/IPython/core/ultratb.py\", line 1095, in get_records\n",
      "    return _fixed_getinnerframes(etb, number_of_lines_of_context, tb_offset)\n",
      "  File \"/Users/aaronfrederick/Desktop/3venv/lib/python3.7/site-packages/IPython/core/ultratb.py\", line 313, in wrapped\n",
      "    return f(*args, **kwargs)\n",
      "  File \"/Users/aaronfrederick/Desktop/3venv/lib/python3.7/site-packages/IPython/core/ultratb.py\", line 347, in _fixed_getinnerframes\n",
      "    records = fix_frame_records_filenames(inspect.getinnerframes(etb, context))\n",
      "  File \"/Library/Frameworks/Python.framework/Versions/3.7/lib/python3.7/inspect.py\", line 1495, in getinnerframes\n",
      "    frameinfo = (tb.tb_frame,) + getframeinfo(tb, context)\n",
      "  File \"/Library/Frameworks/Python.framework/Versions/3.7/lib/python3.7/inspect.py\", line 1453, in getframeinfo\n",
      "    filename = getsourcefile(frame) or getfile(frame)\n",
      "  File \"/Library/Frameworks/Python.framework/Versions/3.7/lib/python3.7/inspect.py\", line 696, in getsourcefile\n",
      "    if getattr(getmodule(object, filename), '__loader__', None) is not None:\n",
      "  File \"/Library/Frameworks/Python.framework/Versions/3.7/lib/python3.7/inspect.py\", line 742, in getmodule\n",
      "    os.path.realpath(f)] = module.__name__\n",
      "  File \"/Users/aaronfrederick/Desktop/3venv/bin/../lib/python3.7/posixpath.py\", line 388, in realpath\n",
      "    path, ok = _joinrealpath(filename[:0], filename, {})\n",
      "  File \"/Users/aaronfrederick/Desktop/3venv/bin/../lib/python3.7/posixpath.py\", line 436, in _joinrealpath\n",
      "    path, ok = _joinrealpath(path, os.readlink(newpath), seen)\n",
      "KeyboardInterrupt\n"
     ]
    },
    {
     "ename": "KeyboardInterrupt",
     "evalue": "",
     "output_type": "error",
     "traceback": [
      "\u001b[0;31m---------------------------------------------------------------------------\u001b[0m"
     ]
    }
   ],
   "source": [
    "#beginning of the episode\n",
    "select_vba()\n",
    "reset_to_ch1()\n",
    "\n",
    "\n",
    "#initialize unit objects\n",
    "\n",
    "starting_location = {'Lyn' : (2,1),\n",
    "                     'Sain' : (0,4),\n",
    "                     'Kent' : (0,2)}\n",
    "\n",
    "\n",
    "item_slot = {'Lyn' : 1,\n",
    "             'Sain' : 0,\n",
    "             'Kent' : 2}\n",
    "\n",
    "units = []\n",
    "\n",
    "time.sleep(1)\n",
    "press_key('w', interrupt=0.5)\n",
    "\n",
    "for _ in range(3):\n",
    "    select_next_unit()\n",
    "    press_key(';')\n",
    "    name = grab_name()\n",
    "    press_key(\"e\")\n",
    "    stats = grab_stats()\n",
    "    \n",
    "    new_unit = Unit(name, stats, starting_location[name], item_slot[name])\n",
    "    new_unit.setup_qtable(15,10)\n",
    "    new_unit.initialize_qtable_with_target((13,8))\n",
    "    units.append(new_unit)\n",
    "    press_key(';')\n",
    "\n",
    "select_next_unit()\n",
    "press_key(';')\n",
    "\n",
    "\n",
    "\n",
    "#play a turn\n",
    "\n",
    "#moving one person represented by 'u'\n",
    "\"\"\"\n",
    "BUGS TO FIX IN THIS BLOCK:\n",
    "- I imagine trade/rescue/drop might have issues\n",
    "\"\"\"\n",
    "\n",
    "#death quote dictionary\n",
    "dqd = pickle.load(open('data/death_quotes.pkl', 'rb'))\n",
    "exploration_rate = 0\n",
    "n_turns = 5\n",
    "\n",
    "# dq = check_death_quote(dqd)\n",
    "# if dq and dq != 'NOT DEATH':\n",
    "#     for u in units:\n",
    "#         if dq == u.name:\n",
    "#             u.update_qtable_death(target=True)\n",
    "#         else:\n",
    "#             u.update_qtable_death()\n",
    "\n",
    "# elif dq == 'NOT DEATH':\n",
    "#     press_key('enter')\n",
    "for _ in range(n_turns):\n",
    "    press_key('w')\n",
    "    for u in units:\n",
    "        time.sleep(1)\n",
    "        select_next_unit()\n",
    "\n",
    "        moving = True\n",
    "        while moving:\n",
    "            time.sleep(0.2)\n",
    "            exp_exp_tradeoff = random.uniform(0,1)\n",
    "            if exp_exp_tradeoff > exploration_rate:\n",
    "                state_index = u.states_to_indices[u.state]\n",
    "                best_action = u.indices_to_moves_and_actions[np.argmax(u.qtable[state_index])]\n",
    "\n",
    "                u.move(best_action)\n",
    "                time.sleep(0.3)\n",
    "                opts = grab_options()\n",
    "\n",
    "                if u.item == 0 and best_action[2] == 'Item':\n",
    "                    best_action = (best_action[0], best_action[1], 'Wait')\n",
    "\n",
    "                can_attack = attack_in_opts(opts)\n",
    "                if best_action[2] == 'Attack' and not can_attack:\n",
    "                    best_action = (best_action[0], best_action[1], 'Wait')\n",
    "\n",
    "                if not opts or 'Wait' not in opts:\n",
    "                    u.update_qtable_invalid_move()\n",
    "                    #press b and try again\n",
    "                    press_key(';')\n",
    "                    press_key(\"'\")\n",
    "                    time.sleep(0.2)\n",
    "                else:\n",
    "                    u.act(best_action)\n",
    "                    moving = False\n",
    "\n",
    "            else:\n",
    "                u.move(random_move=True)\n",
    "                opts = grab_options()\n",
    "                if not opts:\n",
    "                    u.update_qtable_invalid_move()\n",
    "                    #press b and try again\n",
    "                    press_key(';')\n",
    "                else:\n",
    "                    u.act(random_act=True)\n",
    "                    moving = False\n",
    "    enemy_phase_break()"
   ]
  }
 ],
 "metadata": {
  "kernelspec": {
   "display_name": "Python 3",
   "language": "python",
   "name": "python3"
  },
  "language_info": {
   "codemirror_mode": {
    "name": "ipython",
    "version": 3
   },
   "file_extension": ".py",
   "mimetype": "text/x-python",
   "name": "python",
   "nbconvert_exporter": "python",
   "pygments_lexer": "ipython3",
   "version": "3.7.0"
  }
 },
 "nbformat": 4,
 "nbformat_minor": 2
}
